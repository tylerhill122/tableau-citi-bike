{
 "cells": [
  {
   "cell_type": "code",
   "execution_count": 1,
   "id": "c41670e2",
   "metadata": {},
   "outputs": [],
   "source": [
    "import pandas as pd"
   ]
  },
  {
   "cell_type": "code",
   "execution_count": 2,
   "id": "2566fbb4",
   "metadata": {},
   "outputs": [],
   "source": [
    "# csv1 = pd.read_csv(\"data/2021/JC-202101-citibike-tripdata.csv\", sep=',')\n",
    "# csv2 = pd.read_csv(\"data/2021/JC-202102-citibike-tripdata.csv\", sep=',')\n",
    "# csv3 = pd.read_csv(\"data/2021/JC-202103-citibike-tripdata.csv\", sep=',')\n",
    "# csv4 = pd.read_csv(\"data/2021/JC-202104-citibike-tripdata.csv\", sep=',')\n",
    "# csv5 = pd.read_csv(\"data/2021/JC-202105-citibike-tripdata.csv\", sep=',')\n",
    "# csv6 = pd.read_csv(\"data/2021/JC-202106-citibike-tripdata.csv\", sep=',')\n",
    "# csv7 = pd.read_csv(\"data/2021/JC-202107-citibike-tripdata.csv\", sep=',')\n",
    "# csv8 = pd.read_csv(\"data/2021/JC-202108-citibike-tripdata.csv\", sep=',')\n",
    "# csv9 = pd.read_csv(\"data/2021/JC-202109-citibike-tripdata.csv\", sep=',')\n",
    "# csv10 = pd.read_csv(\"data/2021/JC-202110-citibike-tripdata.csv\", sep=',')\n",
    "# csv11 = pd.read_csv(\"data/2021/JC-202111-citibike-tripdata.csv\", sep=',')\n",
    "# csv12 = pd.read_csv(\"data/2021/JC-202112-citibike-tripdata.csv\", sep=',')"
   ]
  },
  {
   "cell_type": "code",
   "execution_count": 3,
   "id": "63b08460",
   "metadata": {},
   "outputs": [],
   "source": [
    "# df = pd.concat([csv1,csv2,csv3,csv4,csv5,csv6,csv7,csv8,csv9,csv10,csv11,csv12])"
   ]
  },
  {
   "cell_type": "code",
   "execution_count": 5,
   "id": "e5914a63",
   "metadata": {},
   "outputs": [],
   "source": [
    "csv1 = pd.read_csv(\"data/2022/JC-202201-citibike-tripdata.csv\", sep=',')\n",
    "csv2 = pd.read_csv(\"data/2022/JC-202202-citibike-tripdata.csv\", sep=',')\n",
    "csv3 = pd.read_csv(\"data/2022/JC-202203-citibike-tripdata.csv\", sep=',')\n",
    "csv4 = pd.read_csv(\"data/2022/JC-202204-citibike-tripdata.csv\", sep=',')\n",
    "csv5 = pd.read_csv(\"data/2022/JC-202205-citibike-tripdata.csv\", sep=',')\n",
    "csv6 = pd.read_csv(\"data/2022/JC-202206-citibike-tripdata.csv\", sep=',')\n",
    "csv7 = pd.read_csv(\"data/2022/JC-202207-citibike-tripdata.csv\", sep=',')"
   ]
  },
  {
   "cell_type": "code",
   "execution_count": 8,
   "id": "b665354b",
   "metadata": {},
   "outputs": [],
   "source": [
    "df = pd.concat([csv1,csv2,csv3,csv4,csv5,csv6,csv7])"
   ]
  },
  {
   "cell_type": "code",
   "execution_count": 9,
   "id": "1e19882a",
   "metadata": {},
   "outputs": [],
   "source": [
    "df.to_csv(r'data/2022/citibike_combined.csv', index = False)"
   ]
  },
  {
   "cell_type": "code",
   "execution_count": 7,
   "id": "e0f7be20",
   "metadata": {},
   "outputs": [
    {
     "name": "stdout",
     "output_type": "stream",
     "text": [
      "465155\n"
     ]
    }
   ],
   "source": [
    "print(len(df))"
   ]
  },
  {
   "cell_type": "code",
   "execution_count": 7,
   "id": "0c36e37a",
   "metadata": {},
   "outputs": [],
   "source": []
  },
  {
   "cell_type": "code",
   "execution_count": null,
   "id": "4f018d6b",
   "metadata": {},
   "outputs": [],
   "source": []
  }
 ],
 "metadata": {
  "kernelspec": {
   "display_name": "Python 3 (ipykernel)",
   "language": "python",
   "name": "python3"
  },
  "language_info": {
   "codemirror_mode": {
    "name": "ipython",
    "version": 3
   },
   "file_extension": ".py",
   "mimetype": "text/x-python",
   "name": "python",
   "nbconvert_exporter": "python",
   "pygments_lexer": "ipython3",
   "version": "3.9.7"
  }
 },
 "nbformat": 4,
 "nbformat_minor": 5
}
